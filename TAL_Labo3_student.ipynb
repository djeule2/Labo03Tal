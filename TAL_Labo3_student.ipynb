{
 "cells": [
  {
   "cell_type": "markdown",
   "metadata": {},
   "source": [
    "<img src=\"https://upload.wikimedia.org/wikipedia/commons/c/c7/HEIG-VD_Logo_96x29_RVB_ROUGE.png\" alt=\"HEIG-VD Logo\" width=\"250\"/>\n",
    "\n",
    "# Cours TAL - Laboratoire 3\n",
    "# Analyse syntaxique du français\n",
    "\n",
    "**Objectifs**\n",
    "1.\tAppliquer un analyseur syntaxique **de dépendances** sur des données de test en français et observer les scores.  Entraîner cet analyseur sur des données d'entraînement adaptées, et déterminer si les scores se sont améliorés ou non.\n",
    "2.\tImporter des fichiers annotés dans NLTK, les transformer en **graphes de dépendances**, et trouver les paires sujet-verbe les plus fréquentes.\n",
    "3.\tEn appliquant un analyseur **en constituants**, extraire tous les groupes nominaux d'un corpus en français.\n",
    "\n",
    "**Instructions initiales**\n",
    "\n",
    "Vous utiliserez les mêmes données que pour le labo 2, car elles contiennent aussi des informations syntaxiques.  Pour rappel, ces données sont disponibles dans [l'archive ZIP fournie sur Cyberlearn au labo 2](https://cyberlearn.hes-so.ch/pluginfile.php/3493142/mod_assign/introattachment/0/UD_French-GSD-withBlankLines.zip?forcedownload=1).  Ces textes en français proviennent du projet [Universal Dependencies (UD)](https://github.com/UniversalDependencies/UD_French-GSD).  Le fichier `fr-ud-train.conllu3` est destiné à l'entraînement, `fr-ud-dev.conllu3` aux tests/réglages préliminaires, et `fr-ud-test.conllu3` à l'évaluation finale."
   ]
  },
  {
   "cell_type": "markdown",
   "metadata": {},
   "source": [
    "## 1. Appliquer un analyseur de dépendances.  Entraîner l'analyseur sur les données UD\n",
    "\n",
    "Dans cette 1ère partie, vous allez appliquer (puis entraîner) le [Stanford Dependency Parser](https://nlp.stanford.edu/software/nndep.html) qui utilise un réseau de neurones.  Comme au Labo 2, vous aurez besoin du code, d'un modèle entraîné, et de la documentation.\n",
    "\n",
    "* **code Java** : on peut le télécharger dans un [package fourni par Stanford](https://nlp.stanford.edu/software/lex-parser.html) avec d'autres parsers et modèles, mais *on vous recommande* de simplement télécharger l'archive `stanford-corenlp-3.9.2.jar` depuis le [site Maven de Stanford CoreNLP](https://search.maven.org/artifact/edu.stanford.nlp/stanford-corenlp/3.9.2/jar) (choisir *Browse* ou *Downloads*)\n",
    "* **modèles** : plusieurs modèles sont disponibles sur le site Maven, donc un package pour le français de 272 MB ; comme vous n'aurez besoin que du modèle (UD) pour Universal Dependencies, *on vous recommande* de télécharger le modèle pour UD pré-entraîné `UD_French.gz` mis à disposition pour le cours TAL sur [drive.switch.ch](https://drive.switch.ch/index.php/s/OqlSRUCSBvqKg3O)\n",
    "* dans la [documentation du parser](https://nlp.stanford.edu/nlp/javadoc/javanlp/edu/stanford/nlp/parser/nndep/DependencyParser.html) regarder surtout le `main()` et les exemples à la fin"
   ]
  },
  {
   "cell_type": "markdown",
   "metadata": {},
   "source": [
    "**Travail demandé**\n",
    "\n",
    "Utiliser la documentation pour effectuer les tâches suivantes.\n",
    "\n",
    "1. Exécuter le parser en Java (avec une commande externe `!java -cp ...` comme au labo 2) en l'appliquant au fichier UD de *test* en français.  Quels sont les deux scores obtenus et que signifient-ils ?\n",
    "2. Entraîner le parser pour générer un nouveau modèle à partir des données d’entraînement.\n",
    "3. Exécuter le parser que vous avez entraîné sur le même fichier de test qu'en (1).  Quels scores obtient-il et comment cela se compare avec le modèle fourni ?\n",
    "\n",
    "**Note** : il est aussi possible d'appeler ce parser depuis NLTK, à condition de lancer le [serveur CoreNLP](https://stanfordnlp.github.io/CoreNLP/corenlp-server.html) et d'utiliser une instance de la classe `CoreNLPDependencyParser` ainsi : `dep_parse = next(dep_parser.raw_parse(\"La maison est petite.\"))`."
   ]
  },
  {
   "cell_type": "code",
   "execution_count": 1,
   "metadata": {},
   "outputs": [
    {
     "name": "stderr",
     "output_type": "stream",
     "text": [
      "Loading depparse model: UD_French.gz ... \n",
      "###################\n",
      "#Transitions: 81\n",
      "#Labels: 40\n",
      "ROOTLABEL: root\n",
      "PreComputed 99996, Elapsed Time: 12.584 (s)\n",
      "Initializing dependency parser ... done [13.7 sec].\n",
      "Test File: fr-ud-dev.conllu3\n",
      "OOV Words: 2716 / 35771 = 7.59%\n",
      "UAS = 57.2195\n",
      "LAS = 43.6722\n",
      "DependencyParser parsed 35771 words in 1478 sentences in 16.5s at 2170.7 w/s, 89.7 sent/s.\n"
     ]
    }
   ],
   "source": [
    "# Veuillez écrire ici la commande pour tester le parser avec le modèle pré-entraîné.\n",
    "! java -cp stanford-corenlp-3.9.2.jar edu.stanford.nlp.parser.nndep.DependencyParser -model UD_French.gz  -testFile fr-ud-dev.conllu3 -outFile dependenciesOutputFile.txt \n",
    "#UAS = 57.2195(Unlabeled Attachment Scores): fait référence au pourcentage de mots qui ont des index sont corrects \n",
    "#LAS = 43.6722 (Labeled Attachment Scores):  fait référence au pourcentage de mots dont les index et les étiquettes de dépendance sont tous deux corrects "
   ]
  },
  {
   "cell_type": "markdown",
   "metadata": {},
   "source": [
    "**Indications pour l'entraînement**\n",
    "* pensez donner un nouveau nom au modèle qui sera créé (attention à l'écrasement)\n",
    "* notez que vous utiliserez à la fois `train` *et* `dev` (voir la documentation)\n",
    "* évitez un output trop volumineux dans le notebook : redirigez le tout dans un fichier `output.txt` en faisant suivre la commande par `>output.txt 2>&1` (valable sous Linux et Windows)\n",
    "* plusieurs options indiquées dans la documentation peuvent être utiles\n",
    "  * `-wordCutOff 3` pour traiter seulement les mots apparaissant plus de 3 fois, ce qui évite notamment le problème des nombres écrits avec un espace (apparaissant 1 fois)\n",
    "  * `-trainingThreads 4` pour utiliser pleinement votre processeur : indiquez le maximum selon votre modèle\n",
    "  * `-maxIter 5000` pour arrêter l'entraînement après 5000 itérations (on peut commencer avec beaucoup moins pour estimer le temps nécessaire)"
   ]
  },
  {
   "cell_type": "code",
   "execution_count": 54,
   "metadata": {},
   "outputs": [
    {
     "name": "stderr",
     "output_type": "stream",
     "text": [
      "Le processus ne peut pas acc‚der au fichier car ce fichier est utilis‚ par un autre processus.\n"
     ]
    }
   ],
   "source": [
    "# Veuillez écrire ici la commande pour entraîner l'analyseur sur le fichier 'train' et créer un nouveau modèle.\n",
    "# Pour ne pas bloquer le notebook, vous pouvez l'exécuter en ligne de commande.\n",
    "! java -cp stanford-corenlp-3.9.2.jar edu.stanford.nlp.parser.nndep.DependencyParser -trainFile fr-ud-train.conllu3 -devFile fr-ud-dev.conllu3  -model my_UD_French2.gz -wordCutOff 3 -trainingThreads 4 -maxIter 5000  > output.txt 2>&1\n"
   ]
  },
  {
   "cell_type": "code",
   "execution_count": 5,
   "metadata": {},
   "outputs": [
    {
     "name": "stderr",
     "output_type": "stream",
     "text": [
      "Loading depparse model: my_UD_French2.gz ... \n",
      "Loaded TreebankLanguagePack: edu.stanford.nlp.trees.PennTreebankLanguagePack\n",
      "###################\n",
      "#Transitions: 91\n",
      "#Labels: 45\n",
      "ROOTLABEL: root\n",
      "PreComputed 100000, Elapsed Time: 1.201 (s)\n",
      "Initializing dependency parser ... done [2.2 sec].\n",
      "Test File: fr-ud-dev.conllu3\n",
      "OOV Words: 4724 / 35771 = 13.21%\n",
      "UAS = 80.6883\n",
      "LAS = 74.6079\n",
      "DependencyParser parsed 35771 words in 1478 sentences in 3.0s at 12113.4 w/s, 500.5 sent/s.\n"
     ]
    }
   ],
   "source": [
    "# Veuillez écrire ici la commande pour tester l'analyseur avec le nouveau modèle, puis commentez les résultats ci-dessous.\n",
    "#! java -cp stanford-corenlp-3.9.2.jar edu.stanford.nlp.parser.nndep.DependencyParser -model my_UD_French2.gz  -testFile fr-ud-dev.conllu3 -outFile newdependenciesOutputFile.txt "
   ]
  },
  {
   "cell_type": "markdown",
   "metadata": {},
   "source": [
    "**Question subsidiaire**\n",
    "\n",
    "Écrivez des instructions pour extraire du fichier de logs du *DependencyParser*, une fois l'entraînement fini, l'évolution des scores suivants :\n",
    "* le score UAS sur l'ensemble de développement (écrit par défaut tous les 100 itérations)\n",
    "* le taux de correction et la fonction de coût (sur l'ensemble d'entraînement) aux mêmes itérations que les scores UAS\n",
    "\n",
    "Affichez ces trois valeurs sur un graphe, en fonction du nombre d'itérations sur l'axe horizontal."
   ]
  },
  {
   "cell_type": "code",
   "execution_count": 45,
   "metadata": {},
   "outputs": [
    {
     "name": "stdout",
     "output_type": "stream",
     "text": [
      "['Cost', '=', '3.776243120931692', ',', 'Correct', '(', '%', ')', '=', '0.17140000000000077']\n",
      "['UAS', ':', '30.421290989908027']\n",
      "['Cost', '=', '3.8416074888454697', ',', 'Correct', '(', '%', ')', '=', '0.15800000000000042']\n",
      "['Cost', '=', '3.8474937065489137', ',', 'Correct', '(', '%', ')', '=', '0.15490000000000032']\n",
      "['Cost', '=', '3.8281489435230087', ',', 'Correct', '(', '%', ')', '=', '0.1610000000000005']\n",
      "['Cost', '=', '3.822269356707752', ',', 'Correct', '(', '%', ')', '=', '0.16200000000000053']\n",
      "['Cost', '=', '3.8312678711001364', ',', 'Correct', '(', '%', ')', '=', '0.1609000000000005']\n",
      "['Cost', '=', '3.852502059751854', ',', 'Correct', '(', '%', ')', '=', '0.15790000000000043']\n",
      "['Cost', '=', '3.8244982666043206', ',', 'Correct', '(', '%', ')', '=', '0.16210000000000052']\n",
      "['Cost', '=', '3.8623762263144226', ',', 'Correct', '(', '%', ')', '=', '0.15530000000000033']\n",
      "['Cost', '=', '3.815487596856908', ',', 'Correct', '(', '%', ')', '=', '0.16560000000000064']\n",
      "['Cost', '=', '3.8547619094877104', ',', 'Correct', '(', '%', ')', '=', '0.15610000000000035']\n",
      "['Cost', '=', '3.8172963609152184', ',', 'Correct', '(', '%', ')', '=', '0.16470000000000062']\n",
      "['Cost', '=', '3.7960997410503867', ',', 'Correct', '(', '%', ')', '=', '0.16880000000000073']\n",
      "['Cost', '=', '3.8479801498580377', ',', 'Correct', '(', '%', ')', '=', '0.15900000000000045']\n",
      "['Cost', '=', '3.8335012000471274', ',', 'Correct', '(', '%', ')', '=', '0.1609000000000005']\n",
      "['Cost', '=', '3.806479137557571', ',', 'Correct', '(', '%', ')', '=', '0.1675000000000007']\n",
      "['Cost', '=', '3.8114554476203364', ',', 'Correct', '(', '%', ')', '=', '0.16520000000000062']\n",
      "['Cost', '=', '3.825862572821139', ',', 'Correct', '(', '%', ')', '=', '0.1648000000000006']\n",
      "['Cost', '=', '3.820460591524806', ',', 'Correct', '(', '%', ')', '=', '0.16660000000000066']\n",
      "['Cost', '=', '3.8128053898870022', ',', 'Correct', '(', '%', ')', '=', '0.16690000000000066']\n",
      "['Cost', '=', '3.8407705085358654', ',', 'Correct', '(', '%', ')', '=', '0.1604000000000005']\n",
      "['Cost', '=', '3.8443394170444716', ',', 'Correct', '(', '%', ')', '=', '0.15920000000000045']\n",
      "['Cost', '=', '3.832167831565073', ',', 'Correct', '(', '%', ')', '=', '0.1643000000000006']\n",
      "['Cost', '=', '3.810069039430215', ',', 'Correct', '(', '%', ')', '=', '0.16900000000000073']\n",
      "['Cost', '=', '3.805605694825131', ',', 'Correct', '(', '%', ')', '=', '0.16950000000000076']\n",
      "['Cost', '=', '3.8249648203573936', ',', 'Correct', '(', '%', ')', '=', '0.16570000000000065']\n",
      "['Cost', '=', '3.8240659635217167', ',', 'Correct', '(', '%', ')', '=', '0.1649000000000006']\n",
      "['Cost', '=', '3.8290135439633395', ',', 'Correct', '(', '%', ')', '=', '0.1653000000000006']\n",
      "['Cost', '=', '3.8109745255379073', ',', 'Correct', '(', '%', ')', '=', '0.16890000000000074']\n",
      "['Cost', '=', '3.812778869791234', ',', 'Correct', '(', '%', ')', '=', '0.17010000000000078']\n",
      "['Cost', '=', '3.8262904537873856', ',', 'Correct', '(', '%', ')', '=', '0.16570000000000062']\n",
      "['Cost', '=', '3.818666191175415', ',', 'Correct', '(', '%', ')', '=', '0.16790000000000072']\n",
      "['Cost', '=', '3.8389716892933605', ',', 'Correct', '(', '%', ')', '=', '0.16050000000000048']\n",
      "['Cost', '=', '3.827676860420061', ',', 'Correct', '(', '%', ')', '=', '0.1682000000000007']\n",
      "['Cost', '=', '3.7938542536210513', ',', 'Correct', '(', '%', ')', '=', '0.17340000000000083']\n",
      "['Cost', '=', '3.8177363943727376', ',', 'Correct', '(', '%', ')', '=', '0.1681000000000007']\n",
      "['Cost', '=', '3.8073636276315774', ',', 'Correct', '(', '%', ')', '=', '0.1718000000000008']\n",
      "['Cost', '=', '3.806462560690675', ',', 'Correct', '(', '%', ')', '=', '0.17210000000000084']\n",
      "['Cost', '=', '3.8005995483243', ',', 'Correct', '(', '%', ')', '=', '0.17130000000000078']\n",
      "['Cost', '=', '3.8231792603498267', ',', 'Correct', '(', '%', ')', '=', '0.1678000000000007']\n",
      "['Cost', '=', '3.831274497905338', ',', 'Correct', '(', '%', ')', '=', '0.16670000000000068']\n",
      "['Cost', '=', '3.8231626858625227', ',', 'Correct', '(', '%', ')', '=', '0.1682000000000007']\n",
      "['Cost', '=', '3.8276713347974285', ',', 'Correct', '(', '%', ')', '=', '0.16600000000000065']\n",
      "['Cost', '=', '3.8037494140472874', ',', 'Correct', '(', '%', ')', '=', '0.17310000000000086']\n",
      "['Cost', '=', '3.81369761475539', ',', 'Correct', '(', '%', ')', '=', '0.17150000000000082']\n",
      "['Cost', '=', '3.823606035738536', ',', 'Correct', '(', '%', ')', '=', '0.16980000000000078']\n",
      "['Cost', '=', '3.816370981097863', ',', 'Correct', '(', '%', ')', '=', '0.1710000000000008']\n",
      "['Cost', '=', '3.8434538173085544', ',', 'Correct', '(', '%', ')', '=', '0.1674000000000007']\n",
      "['Cost', '=', '3.8213660752274587', ',', 'Correct', '(', '%', ')', '=', '0.17320000000000085']\n",
      "['Cost', '=', '3.810977839007299', ',', 'Correct', '(', '%', ')', '=', '0.17380000000000087']\n",
      "['Cost', '=', '3.82541700934369', ',', 'Correct', '(', '%', ')', '=', '0.17030000000000078']\n",
      "['Cost', '=', '3.830814570420503', ',', 'Correct', '(', '%', ')', '=', '0.17030000000000076']\n",
      "['Cost', '=', '3.793423056060944', ',', 'Correct', '(', '%', ')', '=', '0.17770000000000097']\n",
      "['Cost', '=', '3.8317476817333316', ',', 'Correct', '(', '%', ')', '=', '0.17050000000000076']\n",
      "['Cost', '=', '3.835805245531549', ',', 'Correct', '(', '%', ')', '=', '0.17150000000000082']\n",
      "['Cost', '=', '3.839364208487384', ',', 'Correct', '(', '%', ')', '=', '0.16970000000000074']\n",
      "['Cost', '=', '3.801971588832599', ',', 'Correct', '(', '%', ')', '=', '0.17590000000000092']\n",
      "['Cost', '=', '3.808709148275264', ',', 'Correct', '(', '%', ')', '=', '0.17730000000000096']\n",
      "['Cost', '=', '3.806480238490008', ',', 'Correct', '(', '%', ')', '=', '0.17650000000000093']\n",
      "['Cost', '=', '3.843444976479851', ',', 'Correct', '(', '%', ')', '=', '0.16920000000000074']\n",
      "['Cost', '=', '3.824075904774808', ',', 'Correct', '(', '%', ')', '=', '0.17460000000000092']\n",
      "['Cost', '=', '3.8218204747203646', ',', 'Correct', '(', '%', ')', '=', '0.17370000000000088']\n",
      "['Cost', '=', '3.832199871438484', ',', 'Correct', '(', '%', ')', '=', '0.1753000000000009']\n",
      "['Cost', '=', '3.8240272863100855', ',', 'Correct', '(', '%', ')', '=', '0.1749000000000009']\n",
      "['Cost', '=', '3.833097623924749', ',', 'Correct', '(', '%', ')', '=', '0.17320000000000085']\n",
      "['Cost', '=', '3.8123465649284323', ',', 'Correct', '(', '%', ')', '=', '0.179000000000001']\n",
      "['Cost', '=', '3.8353353737218376', ',', 'Correct', '(', '%', ')', '=', '0.17320000000000085']\n",
      "['Cost', '=', '3.823161577385107', ',', 'Correct', '(', '%', ')', '=', '0.18000000000000105']\n",
      "['Cost', '=', '3.7961074703256195', ',', 'Correct', '(', '%', ')', '=', '0.18230000000000113']\n",
      "['Cost', '=', '3.810097765096281', ',', 'Correct', '(', '%', ')', '=', '0.178000000000001']\n",
      "['Cost', '=', '3.7970096423525597', ',', 'Correct', '(', '%', ')', '=', '0.18060000000000107']\n",
      "['Cost', '=', '3.812338829457712', ',', 'Correct', '(', '%', ')', '=', '0.18180000000000113']\n",
      "['Cost', '=', '3.8479492045822488', ',', 'Correct', '(', '%', ')', '=', '0.17650000000000093']\n",
      "['Cost', '=', '3.828150041951812', ',', 'Correct', '(', '%', ')', '=', '0.18050000000000105']\n",
      "['Cost', '=', '3.838046308006809', ',', 'Correct', '(', '%', ')', '=', '0.17810000000000098']\n",
      "['Cost', '=', '3.830824513236097', ',', 'Correct', '(', '%', ')', '=', '0.18030000000000104']\n",
      "['Cost', '=', '3.814594258100791', ',', 'Correct', '(', '%', ')', '=', '0.18100000000000108']\n",
      "['Cost', '=', '3.845715873702698', ',', 'Correct', '(', '%', ')', '=', '0.17610000000000095']\n",
      "['Cost', '=', '3.8182427254844575', ',', 'Correct', '(', '%', ')', '=', '0.18600000000000122']\n",
      "['Cost', '=', '3.8114267111002986', ',', 'Correct', '(', '%', ')', '=', '0.1856000000000012']\n",
      "['Cost', '=', '3.798367318657443', ',', 'Correct', '(', '%', ')', '=', '0.19030000000000133']\n",
      "['Cost', '=', '3.816387552084405', ',', 'Correct', '(', '%', ')', '=', '0.18400000000000116']\n",
      "['Cost', '=', '3.80782244335772', ',', 'Correct', '(', '%', ')', '=', '0.1879000000000013']\n",
      "['Cost', '=', '3.802422671821556', ',', 'Correct', '(', '%', ')', '=', '0.19120000000000137']\n",
      "['Cost', '=', '3.825862566567532', ',', 'Correct', '(', '%', ')', '=', '0.1825000000000011']\n",
      "['Cost', '=', '3.7920167556397915', ',', 'Correct', '(', '%', ')', '=', '0.19370000000000145']\n",
      "['Cost', '=', '3.8127578695145825', ',', 'Correct', '(', '%', ')', '=', '0.1893000000000013']\n",
      "['Cost', '=', '3.862840564163121', ',', 'Correct', '(', '%', ')', '=', '0.17950000000000105']\n",
      "['Cost', '=', '3.847526846295585', ',', 'Correct', '(', '%', ')', '=', '0.18270000000000114']\n",
      "['Cost', '=', '3.807843438031818', ',', 'Correct', '(', '%', ')', '=', '0.18950000000000133']\n",
      "['Cost', '=', '3.844808175961838', ',', 'Correct', '(', '%', ')', '=', '0.18400000000000116']\n",
      "['Cost', '=', '3.828570187252751', ',', 'Correct', '(', '%', ')', '=', '0.18380000000000116']\n",
      "['Cost', '=', '3.8280903714052275', ',', 'Correct', '(', '%', ')', '=', '0.18670000000000123']\n",
      "['Cost', '=', '3.820456164293224', ',', 'Correct', '(', '%', ')', '=', '0.19280000000000141']\n",
      "['Cost', '=', '3.823606030748818', ',', 'Correct', '(', '%', ')', '=', '0.19090000000000137']\n",
      "['Cost', '=', '3.8059971039822487', ',', 'Correct', '(', '%', ')', '=', '0.19300000000000142']\n",
      "['Cost', '=', '3.812332196615265', ',', 'Correct', '(', '%', ')', '=', '0.19040000000000135']\n",
      "['Cost', '=', '3.803769298742037', ',', 'Correct', '(', '%', ')', '=', '0.19330000000000142']\n",
      "['Cost', '=', '3.8231659943191376', ',', 'Correct', '(', '%', ')', '=', '0.19110000000000138']\n",
      "['Cost', '=', '3.8218204716531505', ',', 'Correct', '(', '%', ')', '=', '0.19050000000000133']\n",
      "['Final', 'model', 'UAS', ':', '30.446451']\n",
      "['Exceeds', 'best', 'previous', 'UAS', 'of', '30.421291', '.', 'Saving', 'model', 'file', '..']\n"
     ]
    }
   ],
   "source": [
    "# Veuillez écrire ici le code qui extrait les valeurs.\n",
    "import os\n",
    "import nltk\n",
    "chaines = [\"UAS\",\n",
    "           \"Cost\"] # Texte à rechercher\n",
    "\n",
    "uas, cost, correct = [], [], []\n",
    "file_UD_French2 = \"output.txt\"\n",
    "#files = [fr_ud_dev, fr_ud_train, fr_ud_test]\n",
    "\n",
    "fd = open(file_UD_French2, \"r\",encoding='utf-8')\n",
    "for line in fd.readlines():\n",
    "    for chaine in chaines:\n",
    "        if chaine in line:\n",
    "            tokens = nltk.word_tokenize(line)\n",
    "            print(tokens)\n",
    "fd.close()"
   ]
  },
  {
   "cell_type": "code",
   "execution_count": null,
   "metadata": {},
   "outputs": [],
   "source": [
    "import matplotlib.pyplot\n",
    "%matplotlib inline"
   ]
  },
  {
   "cell_type": "code",
   "execution_count": null,
   "metadata": {},
   "outputs": [],
   "source": [
    "# Écrivez ici le code affichant les trois courbes.  \n",
    "# Pensez-vous qu'il soit utile d'entraîner le parser plus longtemps ?\n"
   ]
  },
  {
   "cell_type": "markdown",
   "metadata": {},
   "source": [
    "## 2.\tExtraire des données UD les paires sujet-verbe les plus fréquentes\n",
    "\n",
    "Dans cette 2e partie, vous allez d'abord importer les données UD avec l'annotation syntaxique *en dépendances*, grâce à un convertisseur appelé `nltk.parse.DependencyGraph`.  Celui-ci permet de transformer une phrase annotée au format CONLL (c'est-à-dire sur plusieurs lignes avec un mot et ses annotations par ligne) en un graphe de dépendances.  Vous pourrez ensuite faire des statistiques de fréquences sur les trois fichiers `fr-ud-XXX.conllu3`.\n",
    "\n",
    "**Note 1** : on ne peut pas utiliser `ConllCorpusReader` comme dans le labo 2, parce que l'information syntaxique des données UD françaises est faite de *dépendances*, or ConllCorpusReader s'attend à trouver une information de faite de *constituants*.\n",
    "\n",
    "**Note 2** : on utilise ici l'annotation fournie avec le corpus, mais on aurait pu aussi effectuer l'analyse syntaxique avec le parser de Stanford obtenu ci-dessus, pour un texte nouveau.\n",
    "\n",
    "**Travail demandé**\n",
    "* Lisez d'abord les [explications fournies par NLTK](http://www.nltk.org/howto/dependency.html) (début de la page)  pour transformer une phrase au format CONLL en un graphe de dépendances (classe `DependencyGraph`) et accéder aux informations de ce graphe.  Ensuite :\n",
    "* Parcourez le(s) fichier(s) UD phrase par phrase (attention aux espaces dans certains nombres), et créez un graphe de dépendance pour chaque phrase.  Attention, il faut préciser que la relation de plus haut niveau est 'root' (et non 'ROOT').\n",
    "* Sélectionnez les triplets ayant une relation *nsubj* (entre sujet et verbe).\n",
    "* Donnez les 10 triplets les plus fréquents dans tout le corpus (train + dev + test)."
   ]
  },
  {
   "cell_type": "code",
   "execution_count": 86,
   "metadata": {},
   "outputs": [
    {
     "name": "stdout",
     "output_type": "stream",
     "text": [
      "Nombre Ligne:  10298\n",
      "phrase indice 400:  9\taussi\taussi\tADV\t_\t_\t10\tadvmod\t_\t_\n"
     ]
    }
   ],
   "source": [
    "# Veuillez écrire ici le code pour ouvrir le fichier 'fr-ud-test.conllu3'\n",
    "# et lire son contenu dans un tableau de strings (un string = les lignes de chaque phrase).\n",
    "# Indiquez le nombre de phrases et affichez la phrase d'indice 400 comme exemple.\n",
    "import os\n",
    "import nltk\n",
    "tab_UD_test_conllu3 = []\n",
    "file_UD_test_conllu3 = 'fr-ud-test.conllu3'\n",
    "#files = [fr_ud_dev, fr_ud_train, fr_ud_test]\n",
    "with open(file_UD_test_conllu3, \"r\" ,encoding='utf-8') as f_read:\n",
    "    for line in f_read:\n",
    "        line = line.strip()  #suppression du retour charriot en fin de ligne\n",
    "        if line:\n",
    "            tab_UD_test_conllu3.append(line)\n",
    "print('Nombre Ligne: ',len(tab_UD_test_conllu3))\n",
    "print('phrase indice 400: ', tab_UD_test_conllu3[400])\n",
    "\n"
   ]
  },
  {
   "cell_type": "code",
   "execution_count": 89,
   "metadata": {},
   "outputs": [
    {
     "name": "stdout",
     "output_type": "stream",
     "text": [
      "phrase indice 400:  9\taussi\taussi\tADV\t_\t_\t10\tadvmod\t_\t_\n"
     ]
    }
   ],
   "source": [
    "# Dans les chaînes obtenues, il reste des mots avec des espaces, que l'on veut supprimer.  \n",
    "# Veuillez écrire ici la ligne de code pour supprimer tous les espaces.\n",
    "tab_UD_test_final = []\n",
    "for element in tab_UD_test_conllu3:\n",
    "    tab_UD_test_final.append(element.replace(\" \", \"\"))\n",
    "print('phrase indice 400: ', tab_UD_test_final[400])"
   ]
  },
  {
   "cell_type": "code",
   "execution_count": 90,
   "metadata": {},
   "outputs": [],
   "source": [
    "from nltk.parse import DependencyGraph"
   ]
  },
  {
   "cell_type": "code",
   "execution_count": 117,
   "metadata": {},
   "outputs": [
    {
     "name": "stdout",
     "output_type": "stream",
     "text": [
      "defaultdict(<function DependencyGraph.__init__.<locals>.<lambda> at 0x0000014B010615E0>,\n",
      "            {0: {'address': 0,\n",
      "                 'ctag': 'TOP',\n",
      "                 'deps': defaultdict(<class 'list'>, {'root': []}),\n",
      "                 'feats': None,\n",
      "                 'head': None,\n",
      "                 'lemma': None,\n",
      "                 'rel': None,\n",
      "                 'tag': 'TOP',\n",
      "                 'word': None},\n",
      "             9: {'address': 9,\n",
      "                 'ctag': 'ADV',\n",
      "                 'deps': defaultdict(<class 'list'>, {}),\n",
      "                 'feats': '_',\n",
      "                 'head': 10,\n",
      "                 'lemma': 'aussi',\n",
      "                 'rel': 'advmod',\n",
      "                 'tag': '_',\n",
      "                 'word': 'aussi'},\n",
      "             10: {'address': None,\n",
      "                  'ctag': None,\n",
      "                  'deps': defaultdict(<class 'list'>, {'advmod': [9]}),\n",
      "                  'feats': None,\n",
      "                  'head': None,\n",
      "                  'lemma': None,\n",
      "                  'rel': None,\n",
      "                  'tag': None,\n",
      "                  'word': None}})\n"
     ]
    },
    {
     "ename": "TypeError",
     "evalue": "'NoneType' object is not subscriptable",
     "output_type": "error",
     "traceback": [
      "\u001b[1;31m---------------------------------------------------------------------------\u001b[0m",
      "\u001b[1;31mTypeError\u001b[0m                                 Traceback (most recent call last)",
      "\u001b[1;32m<ipython-input-117-a662c1e8dfcb>\u001b[0m in \u001b[0;36m<module>\u001b[1;34m\u001b[0m\n\u001b[0;32m      7\u001b[0m \u001b[0mprint\u001b[0m\u001b[1;33m(\u001b[0m\u001b[0mtab_DependencyGrah\u001b[0m\u001b[1;33m[\u001b[0m\u001b[1;36m400\u001b[0m\u001b[1;33m]\u001b[0m\u001b[1;33m)\u001b[0m\u001b[1;33m\u001b[0m\u001b[1;33m\u001b[0m\u001b[0m\n\u001b[0;32m      8\u001b[0m \u001b[1;33m\u001b[0m\u001b[0m\n\u001b[1;32m----> 9\u001b[1;33m \u001b[0mtab_DependencyGrah\u001b[0m\u001b[1;33m[\u001b[0m\u001b[1;36m400\u001b[0m\u001b[1;33m]\u001b[0m\u001b[1;33m.\u001b[0m\u001b[0mtree\u001b[0m\u001b[1;33m(\u001b[0m\u001b[1;33m)\u001b[0m\u001b[1;33m.\u001b[0m\u001b[0mpprint\u001b[0m\u001b[1;33m(\u001b[0m\u001b[1;33m)\u001b[0m\u001b[1;33m\u001b[0m\u001b[1;33m\u001b[0m\u001b[0m\n\u001b[0m\u001b[0;32m     10\u001b[0m \u001b[1;33m\u001b[0m\u001b[0m\n\u001b[0;32m     11\u001b[0m \u001b[1;31m#for head, rel, dep in tab_DependencyGrah[400].triples():\u001b[0m\u001b[1;33m\u001b[0m\u001b[1;33m\u001b[0m\u001b[1;33m\u001b[0m\u001b[0m\n",
      "\u001b[1;32mC:\\miniconda3\\lib\\site-packages\\nltk\\parse\\dependencygraph.py\u001b[0m in \u001b[0;36mtree\u001b[1;34m(self)\u001b[0m\n\u001b[0;32m    423\u001b[0m         \u001b[0mnode\u001b[0m \u001b[1;33m=\u001b[0m \u001b[0mself\u001b[0m\u001b[1;33m.\u001b[0m\u001b[0mroot\u001b[0m\u001b[1;33m\u001b[0m\u001b[1;33m\u001b[0m\u001b[0m\n\u001b[0;32m    424\u001b[0m \u001b[1;33m\u001b[0m\u001b[0m\n\u001b[1;32m--> 425\u001b[1;33m         \u001b[0mword\u001b[0m \u001b[1;33m=\u001b[0m \u001b[0mnode\u001b[0m\u001b[1;33m[\u001b[0m\u001b[1;34m\"word\"\u001b[0m\u001b[1;33m]\u001b[0m\u001b[1;33m\u001b[0m\u001b[1;33m\u001b[0m\u001b[0m\n\u001b[0m\u001b[0;32m    426\u001b[0m         \u001b[0mdeps\u001b[0m \u001b[1;33m=\u001b[0m \u001b[0msorted\u001b[0m\u001b[1;33m(\u001b[0m\u001b[0mchain\u001b[0m\u001b[1;33m.\u001b[0m\u001b[0mfrom_iterable\u001b[0m\u001b[1;33m(\u001b[0m\u001b[0mnode\u001b[0m\u001b[1;33m[\u001b[0m\u001b[1;34m\"deps\"\u001b[0m\u001b[1;33m]\u001b[0m\u001b[1;33m.\u001b[0m\u001b[0mvalues\u001b[0m\u001b[1;33m(\u001b[0m\u001b[1;33m)\u001b[0m\u001b[1;33m)\u001b[0m\u001b[1;33m)\u001b[0m\u001b[1;33m\u001b[0m\u001b[1;33m\u001b[0m\u001b[0m\n\u001b[0;32m    427\u001b[0m         \u001b[1;32mreturn\u001b[0m \u001b[0mTree\u001b[0m\u001b[1;33m(\u001b[0m\u001b[0mword\u001b[0m\u001b[1;33m,\u001b[0m \u001b[1;33m[\u001b[0m\u001b[0mself\u001b[0m\u001b[1;33m.\u001b[0m\u001b[0m_tree\u001b[0m\u001b[1;33m(\u001b[0m\u001b[0mdep\u001b[0m\u001b[1;33m)\u001b[0m \u001b[1;32mfor\u001b[0m \u001b[0mdep\u001b[0m \u001b[1;32min\u001b[0m \u001b[0mdeps\u001b[0m\u001b[1;33m]\u001b[0m\u001b[1;33m)\u001b[0m\u001b[1;33m\u001b[0m\u001b[1;33m\u001b[0m\u001b[0m\n",
      "\u001b[1;31mTypeError\u001b[0m: 'NoneType' object is not subscriptable"
     ]
    }
   ],
   "source": [
    "# Veuillez écrire ici le code pour créer un tableau de graphes de dépendances (1 par phrase)\n",
    "# et cherchez les relations de type 'nsubj' dans la phrase d'indice 400 du fichier 'test'.\n",
    "\n",
    "tab_DependencyGrah = []\n",
    "for element in tab_UD_test_final:\n",
    "    tab_DependencyGrah.append(DependencyGraph(element, top_relation_label='root'))\n",
    "print(tab_DependencyGrah[400])\n",
    "\n",
    "tab_DependencyGrah[400].tree().pprint()\n",
    "\n",
    "#for head, rel, dep in tab_DependencyGrah[400].triples():\n",
    "    # print(\n",
    "       #  '({h[0]}, {h[1]}), {r}, ({d[0]}, {d[1]})'\n",
    "        # .format(h=head, r=rel, d=dep)\n",
    "    # )"
   ]
  },
  {
   "cell_type": "code",
   "execution_count": null,
   "metadata": {},
   "outputs": [],
   "source": [
    "# Veuillez écrire ici le code pour extraire la paire (sujet, verbe)\n",
    "# de la première relation 'nsubj' trouvée ci-dessus.  Il servira ci-dessous.\n"
   ]
  },
  {
   "cell_type": "code",
   "execution_count": null,
   "metadata": {},
   "outputs": [],
   "source": [
    "from nltk.probability import FreqDist"
   ]
  },
  {
   "cell_type": "code",
   "execution_count": null,
   "metadata": {},
   "outputs": [],
   "source": [
    "# En utilisant les FreqDist, veuillez afficher les 10 paires \n",
    "# (nom, verbe) les plus fréquentes dans le fichier 'test'.\n",
    "# Pensez convertir les mots en minuscule pour consolider le comptage.\n"
   ]
  },
  {
   "cell_type": "code",
   "execution_count": null,
   "metadata": {},
   "outputs": [],
   "source": [
    "# Veuillez consolider ces résultats en regroupant les trois fichiers 'train', 'dev' et 'test'.\n",
    "# Affichez cette fois-ci les 20 paires (sujet, verbe) les plus fréquentes.\n"
   ]
  },
  {
   "cell_type": "markdown",
   "metadata": {},
   "source": [
    "## 3.\tAppliquer un analyseur syntaxique en constituants. Extraire les groupe nominaux\n",
    "\n",
    "Dans cette 3e partie, vous utiliserez l'analyseur syntaxique en constituants appelé **LexicalizedParser**, toujours fourni parmi les outils CoreNLP de Stanford, et [documenté ici](https://nlp.stanford.edu/nlp/javadoc/javanlp/edu/stanford/nlp/parser/lexparser/LexicalizedParser.html).  \n",
    "\n",
    "Le code du parser figure dans le même fichier `.jar` que ci-dessus, et vous pouvez télécharger le modèle `frenchFactored.ser.gz` depuis le [Switch Drive](https://drive.switch.ch/index.php/s/R6gXPifDupAbo3l) de l'enseignant (4 MB).  \n",
    "\n",
    "L'objectif de cette 3e partie est d'extraire les **groupes nominaux** les plus fréquents d'un texte.\n",
    "\n",
    "\n",
    "**Note** : Pour travailler avec les outils CoreNLP depuis NLTK, la solution la plus récente consiste à démarrer un [serveur CoreNLP](https://stanfordnlp.github.io/CoreNLP/corenlp-server.html), soit depuis NLTK soit en ligne de commande.  Pour mémoire, les commandes sont `java -mx4g -cp \"stanford-corenlp-3.9.2.jar;stanford-french-corenlp-2018-01-31-models.jar\" edu.stanford.nlp.pipeline.StanfordCoreNLPServer -serverProperties StanfordCoreNLP-french.properties -port 9000 -timeout 15000` ou alors `CoreNLPServer(\"stanford-corenlp-3.9.2.jar\", \"stanford-french-corenlp-2018-01-31-models.jar\").start()`. Les [modèles pour le français](http://central.maven.org/maven2/edu/stanford/nlp/stanford-corenlp/3.9.2/) font 277 MB.  -- Mais nous n'utiliserons pas cela dans ce qui suit."
   ]
  },
  {
   "cell_type": "code",
   "execution_count": null,
   "metadata": {},
   "outputs": [],
   "source": [
    "# Veuillez écrire la ligne de commande (java) qui effecte l'analyse syntaxique\n",
    "# en constituants d'un court texte de votre choix (10 phrases).  Choisissez\n",
    "# 'oneline' comme format des résultats et écrivez-les dans un ficher.\n"
   ]
  },
  {
   "cell_type": "markdown",
   "metadata": {},
   "source": [
    "Vous allez utiliser la classe BracketParseCorpusReader de NLTK pour importer les lignes contenant les analyses syntaxiques vers des objets `Tree` sous NLTK, auquels vous pourrez appliquer diverses fonctions (voir https://www.nltk.org/_modules/nltk/tree.html#Tree), comme demandé ci-dessous."
   ]
  },
  {
   "cell_type": "code",
   "execution_count": null,
   "metadata": {},
   "outputs": [],
   "source": [
    "from nltk.corpus.reader.bracket_parse import BracketParseCorpusReader"
   ]
  },
  {
   "cell_type": "code",
   "execution_count": null,
   "metadata": {},
   "outputs": [],
   "source": [
    "# Écrivez le code qui importe le fichier de résultats du LexicalizedParser comme une liste d'arbres.\n",
    "# Cherchez dans la documentation de Tree une fonction d'affichage joli et affichez le premier arbre.\n"
   ]
  },
  {
   "cell_type": "code",
   "execution_count": null,
   "metadata": {},
   "outputs": [],
   "source": [
    "# Écrivez le code qui extrait les groupes nominaux de toutes les phrases (représentés\n",
    "# dans votre liste comme des strings), et qui affiche les 10 les plus fréquents.\n"
   ]
  },
  {
   "cell_type": "markdown",
   "metadata": {},
   "source": [
    "Veuillez enfin répéter l'expérience avec un texte plus long (une page Wikipedia ou un texte du projet Gutenberg) : indiquez les 20 GN les plus fréquents, et le temps approximatif nécessaire pour le parsing."
   ]
  },
  {
   "cell_type": "markdown",
   "metadata": {},
   "source": [
    "## Fin du laboratoire 3\n",
    "\n",
    "Merci de nettoyer votre feuille, exécuter une dernière fois toutes les instructions, sauvegarder le résultat, et le soumettre sur Cyberlearn."
   ]
  }
 ],
 "metadata": {
  "kernelspec": {
   "display_name": "Python 3",
   "language": "python",
   "name": "python3"
  },
  "language_info": {
   "codemirror_mode": {
    "name": "ipython",
    "version": 3
   },
   "file_extension": ".py",
   "mimetype": "text/x-python",
   "name": "python",
   "nbconvert_exporter": "python",
   "pygments_lexer": "ipython3",
   "version": "3.8.5"
  }
 },
 "nbformat": 4,
 "nbformat_minor": 2
}
